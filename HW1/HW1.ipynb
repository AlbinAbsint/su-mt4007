{
 "cells": [
  {
   "cell_type": "markdown",
   "id": "59169902-d2d0-476e-9dfa-bdec688f46f3",
   "metadata": {},
   "source": "# Homework 1"
  },
  {
   "cell_type": "markdown",
   "id": "a003ecd1-ad0d-430c-91a6-53946856ab09",
   "metadata": {},
   "source": [
    "I'm a left-handed fool standing at 6'2 with brown hair, likes to read books and watch movies. \n",
    "\n",
    "I have little previous experience with Data Science, but I've found the subject to be an interesting one."
   ]
  }
 ],
 "metadata": {
  "kernelspec": {
   "display_name": "Python 3 (ipykernel)",
   "language": "python",
   "name": "python3"
  },
  "language_info": {
   "codemirror_mode": {
    "name": "ipython",
    "version": 3
   },
   "file_extension": ".py",
   "mimetype": "text/x-python",
   "name": "python",
   "nbconvert_exporter": "python",
   "pygments_lexer": "ipython3",
   "version": "3.11.1"
  }
 },
 "nbformat": 4,
 "nbformat_minor": 5
}
